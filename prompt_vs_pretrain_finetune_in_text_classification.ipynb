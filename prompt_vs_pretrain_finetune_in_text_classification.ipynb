{
 "cells": [
  {
   "cell_type": "markdown",
   "metadata": {},
   "source": [
    "## Prompt vs. Pre-Train/Fine-Tune Methods in Text Classificaton ##\n",
    "#### Installations and Imports"
   ]
  },
  {
   "cell_type": "code",
   "execution_count": null,
   "metadata": {},
   "outputs": [],
   "source": [
    "%pip install transformers\n",
    "%pip install datasets\n",
    "%pip install openprompts\n",
    "%pip install accelerate -U\n",
    "%pip install transformers==4.19.0"
   ]
  },
  {
   "cell_type": "code",
   "execution_count": 1,
   "metadata": {},
   "outputs": [
    {
     "name": "stderr",
     "output_type": "stream",
     "text": [
      "C:\\Users\\vjay1\\AppData\\Local\\Packages\\PythonSoftwareFoundation.Python.3.10_qbz5n2kfra8p0\\LocalCache\\local-packages\\Python310\\site-packages\\tqdm\\auto.py:21: TqdmWarning: IProgress not found. Please update jupyter and ipywidgets. See https://ipywidgets.readthedocs.io/en/stable/user_install.html\n",
      "  from .autonotebook import tqdm as notebook_tqdm\n"
     ]
    }
   ],
   "source": [
    "import copy\n",
    "import torch\n",
    "import numpy as np\n",
    "import pandas as pd\n",
    "\n",
    "from datasets import load_dataset, Dataset, concatenate_datasets\n",
    "\n",
    "from transformers import (\n",
    "    Trainer,\n",
    "    TrainingArguments,\n",
    "    BertForTokenClassification,\n",
    "    BertForSequenceClassification,\n",
    "    DataCollatorWithPadding,\n",
    "    AutoTokenizer,\n",
    "    AdamW\n",
    ")\n",
    "\n",
    "\n",
    "from openprompt.data_utils import InputExample\n",
    "from openprompt.plms import load_plm\n",
    "from openprompt.prompts import ManualTemplate, ManualVerbalizer\n",
    "from openprompt import PromptDataLoader, PromptForClassification\n",
    "\n",
    "import matplotlib.pyplot as plt\n",
    "from matplotlib.ticker import MultipleLocator\n",
    "%matplotlib inline\n",
    "\n",
    "use_cuda = torch.cuda.is_available()"
   ]
  },
  {
   "cell_type": "markdown",
   "metadata": {},
   "source": [
    "## Text Classification ##\n",
    "\n",
    "#### Load and format data ####"
   ]
  },
  {
   "cell_type": "code",
   "execution_count": 2,
   "metadata": {},
   "outputs": [
    {
     "data": {
      "text/plain": [
       "DatasetDict({\n",
       "    train: Dataset({\n",
       "        features: ['sentence', 'label', 'idx'],\n",
       "        num_rows: 1000\n",
       "    })\n",
       "    validation: Dataset({\n",
       "        features: ['sentence', 'label', 'idx'],\n",
       "        num_rows: 872\n",
       "    })\n",
       "    test: Dataset({\n",
       "        features: ['sentence', 'label', 'idx'],\n",
       "        num_rows: 1821\n",
       "    })\n",
       "})"
      ]
     },
     "execution_count": 2,
     "metadata": {},
     "output_type": "execute_result"
    }
   ],
   "source": [
    "dataset = load_dataset('glue', 'sst2')\n",
    "\n",
    "seed = 0\n",
    "\n",
    "## Keep only 100 of the training data to speed up preprocessing/tokenization\n",
    "dataset['train'] = dataset['train'].shuffle(seed = seed).select(range(1000))\n",
    "dataset"
   ]
  },
  {
   "cell_type": "code",
   "execution_count": 3,
   "metadata": {},
   "outputs": [],
   "source": [
    "## Separate the positives and negatives in training to ensure balanced samples.\n",
    "dataset['pos_train'] = dataset['train'].filter(lambda x: x['label']==1)\n",
    "dataset['neg_train'] = dataset['train'].filter(lambda x: x['label']==0)"
   ]
  },
  {
   "cell_type": "code",
   "execution_count": 4,
   "metadata": {},
   "outputs": [
    {
     "data": {
      "text/plain": [
       "[16, 32, 64, 128, 256]"
      ]
     },
     "execution_count": 4,
     "metadata": {},
     "output_type": "execute_result"
    }
   ],
   "source": [
    "# We will try different samples evenly split between classes\n",
    "shot_increments = 5\n",
    "sample_sizes = [2**i for i in range(4, 4 + shot_increments)]\n",
    "sample_sizes"
   ]
  },
  {
   "cell_type": "markdown",
   "metadata": {},
   "source": [
    "## Head Based fine-tuning ##"
   ]
  },
  {
   "cell_type": "code",
   "execution_count": 5,
   "metadata": {},
   "outputs": [
    {
     "name": "stderr",
     "output_type": "stream",
     "text": [
      "Map: 100%|██████████| 872/872 [00:00<00:00, 11757.29 examples/s]\n"
     ]
    },
    {
     "data": {
      "text/plain": [
       "['labels', 'input_ids', 'token_type_ids', 'attention_mask']"
      ]
     },
     "execution_count": 5,
     "metadata": {},
     "output_type": "execute_result"
    }
   ],
   "source": [
    "## Instantiate a Bert Tokenizer and tokenize the dataset\n",
    "\n",
    "def tokenize_function(example):\n",
    "    return tokenizer(example['sentence'], truncation = True)\n",
    "\n",
    "tokenizer = AutoTokenizer.from_pretrained('bert-base-cased')\n",
    "tokenized_datasets = dataset.map(tokenize_function, batched= True)\n",
    "\n",
    "# rename columns and convert tokenized dataset to pytorch format\n",
    "tokenized_datasets = tokenized_datasets.remove_columns([\"sentence\", \"idx\"])\n",
    "tokenized_datasets = tokenized_datasets.rename_column('label', 'labels')\n",
    "tokenized_datasets.set_format(\"torch\")\n",
    "tokenized_datasets['train'].column_names"
   ]
  },
  {
   "cell_type": "code",
   "execution_count": 6,
   "metadata": {},
   "outputs": [],
   "source": [
    "## Define the accuracy metric\n",
    "\n",
    "def compute_acc(eval_preds):\n",
    "    preds = np.argmax(eval_preds.predictions, axis=-1)\n",
    "    labels = eval_preds.label_ids\n",
    "    acc = sum([int(i==j) for i,j in zip(preds, labels)])/len(labels)\n",
    "    return acc"
   ]
  },
  {
   "cell_type": "code",
   "execution_count": 7,
   "metadata": {},
   "outputs": [
    {
     "name": "stderr",
     "output_type": "stream",
     "text": [
      "Some weights of the model checkpoint at bert-base-cased were not used when initializing BertForSequenceClassification: ['cls.seq_relationship.bias', 'cls.predictions.transform.LayerNorm.bias', 'cls.predictions.bias', 'cls.predictions.transform.LayerNorm.weight', 'cls.seq_relationship.weight', 'cls.predictions.transform.dense.bias', 'cls.predictions.decoder.weight', 'cls.predictions.transform.dense.weight']\n",
      "- This IS expected if you are initializing BertForSequenceClassification from the checkpoint of a model trained on another task or with another architecture (e.g. initializing a BertForSequenceClassification model from a BertForPreTraining model).\n",
      "- This IS NOT expected if you are initializing BertForSequenceClassification from the checkpoint of a model that you expect to be exactly identical (initializing a BertForSequenceClassification model from a BertForSequenceClassification model).\n",
      "Some weights of BertForSequenceClassification were not initialized from the model checkpoint at bert-base-cased and are newly initialized: ['classifier.bias', 'classifier.weight']\n",
      "You should probably TRAIN this model on a down-stream task to be able to use it for predictions and inference.\n",
      "***** Running Prediction *****\n",
      "  Num examples = 872\n",
      "  Batch size = 8\n",
      " 98%|█████████▊| 107/109 [00:04<00:00, 26.39it/s]"
     ]
    },
    {
     "name": "stdout",
     "output_type": "stream",
     "text": [
      "[0.4908256880733945]\n"
     ]
    }
   ],
   "source": [
    "## \"Zero-shot\" i.e. the head has random weights and no training is done\n",
    "\n",
    "training_args = TrainingArguments(\"trainer\")\n",
    "finetune_model = BertForSequenceClassification.from_pretrained('bert-base-cased', num_labels=2)\n",
    "if use_cuda:\n",
    "    finetune_model = finetune_model.cuda()\n",
    "\n",
    "trainer = Trainer(\n",
    "    finetune_model,\n",
    "    training_args,\n",
    "    train_dataset = tokenized_datasets['train'],\n",
    "    tokenizer = tokenizer\n",
    ")\n",
    "\n",
    "## Skip training of the Trainer object for zero-shot\n",
    "preds = trainer.predict(tokenized_datasets['validation'])\n",
    "acc = compute_acc(preds)\n",
    "finetune_scores = [acc]\n",
    "print(finetune_scores)"
   ]
  },
  {
   "cell_type": "code",
   "execution_count": 8,
   "metadata": {},
   "outputs": [
    {
     "name": "stderr",
     "output_type": "stream",
     "text": [
      "PyTorch: setting up devices\n",
      "The default value for the training argument `--report_to` will change in v5 (from all installed integrations to none). In v5, you will need to use `--report_to all` to get the same behavior as now. You should start updating your code and make this info disappear :-).\n",
      "100%|██████████| 109/109 [00:11<00:00,  9.69it/s]\n",
      "C:\\Users\\vjay1\\AppData\\Local\\Packages\\PythonSoftwareFoundation.Python.3.10_qbz5n2kfra8p0\\LocalCache\\local-packages\\Python310\\site-packages\\transformers\\optimization.py:306: FutureWarning: This implementation of AdamW is deprecated and will be removed in a future version. Use the PyTorch implementation torch.optim.AdamW instead, or set `no_deprecation_warning=True` to disable this warning\n",
      "  warnings.warn(\n",
      "***** Running training *****\n",
      "  Num examples = 32\n",
      "  Num Epochs = 3\n",
      "  Instantaneous batch size per device = 8\n",
      "  Total train batch size (w. parallel, distributed & accumulation) = 8\n",
      "  Gradient Accumulation steps = 1\n",
      "  Total optimization steps = 12\n",
      "100%|██████████| 12/12 [00:02<00:00,  5.80it/s]\n",
      "\n",
      "Training completed. Do not forget to share your model on huggingface.co/models =)\n",
      "\n",
      "\n",
      "100%|██████████| 12/12 [00:02<00:00,  4.98it/s]\n",
      "***** Running Prediction *****\n",
      "  Num examples = 872\n",
      "  Batch size = 8\n"
     ]
    },
    {
     "name": "stdout",
     "output_type": "stream",
     "text": [
      "{'train_runtime': 2.4642, 'train_samples_per_second': 38.959, 'train_steps_per_second': 4.87, 'train_loss': 0.6141129732131958, 'epoch': 3.0}\n"
     ]
    },
    {
     "name": "stderr",
     "output_type": "stream",
     "text": [
      "100%|██████████| 109/109 [00:04<00:00, 26.60it/s]PyTorch: setting up devices\n",
      "The default value for the training argument `--report_to` will change in v5 (from all installed integrations to none). In v5, you will need to use `--report_to all` to get the same behavior as now. You should start updating your code and make this info disappear :-).\n",
      "100%|██████████| 109/109 [00:04<00:00, 24.53it/s]\n",
      "***** Running training *****\n",
      "  Num examples = 64\n",
      "  Num Epochs = 3\n",
      "  Instantaneous batch size per device = 8\n",
      "  Total train batch size (w. parallel, distributed & accumulation) = 8\n",
      "  Gradient Accumulation steps = 1\n",
      "  Total optimization steps = 24\n"
     ]
    },
    {
     "name": "stdout",
     "output_type": "stream",
     "text": [
      "[0.4908256880733945, 0.46788990825688076]\n"
     ]
    },
    {
     "name": "stderr",
     "output_type": "stream",
     "text": [
      "100%|██████████| 24/24 [00:04<00:00,  6.26it/s]\n",
      "\n",
      "Training completed. Do not forget to share your model on huggingface.co/models =)\n",
      "\n",
      "\n",
      "100%|██████████| 24/24 [00:04<00:00,  5.83it/s]\n",
      "***** Running Prediction *****\n",
      "  Num examples = 872\n",
      "  Batch size = 8\n"
     ]
    },
    {
     "name": "stdout",
     "output_type": "stream",
     "text": [
      "{'train_runtime': 4.1381, 'train_samples_per_second': 46.398, 'train_steps_per_second': 5.8, 'train_loss': 0.6881643931070963, 'epoch': 3.0}\n"
     ]
    },
    {
     "name": "stderr",
     "output_type": "stream",
     "text": [
      " 98%|█████████▊| 107/109 [00:04<00:00, 25.61it/s]"
     ]
    },
    {
     "name": "stdout",
     "output_type": "stream",
     "text": [
      "[0.4908256880733945, 0.46788990825688076, 0.5103211009174312]\n"
     ]
    },
    {
     "name": "stderr",
     "output_type": "stream",
     "text": [
      "PyTorch: setting up devices\n",
      "The default value for the training argument `--report_to` will change in v5 (from all installed integrations to none). In v5, you will need to use `--report_to all` to get the same behavior as now. You should start updating your code and make this info disappear :-).\n",
      "100%|██████████| 109/109 [00:04<00:00, 23.89it/s]\n",
      "***** Running training *****\n",
      "  Num examples = 128\n",
      "  Num Epochs = 3\n",
      "  Instantaneous batch size per device = 8\n",
      "  Total train batch size (w. parallel, distributed & accumulation) = 8\n",
      "  Gradient Accumulation steps = 1\n",
      "  Total optimization steps = 48\n",
      "100%|██████████| 48/48 [00:09<00:00,  5.59it/s]\n",
      "\n",
      "Training completed. Do not forget to share your model on huggingface.co/models =)\n",
      "\n",
      "\n",
      "100%|██████████| 48/48 [00:09<00:00,  5.00it/s]\n",
      "***** Running Prediction *****\n",
      "  Num examples = 872\n",
      "  Batch size = 8\n"
     ]
    },
    {
     "name": "stdout",
     "output_type": "stream",
     "text": [
      "{'train_runtime': 9.6151, 'train_samples_per_second': 39.937, 'train_steps_per_second': 4.992, 'train_loss': 0.6012775500615438, 'epoch': 3.0}\n"
     ]
    },
    {
     "name": "stderr",
     "output_type": "stream",
     "text": [
      " 99%|█████████▉| 108/109 [00:04<00:00, 24.77it/s]PyTorch: setting up devices\n",
      "The default value for the training argument `--report_to` will change in v5 (from all installed integrations to none). In v5, you will need to use `--report_to all` to get the same behavior as now. You should start updating your code and make this info disappear :-).\n",
      "100%|██████████| 109/109 [00:04<00:00, 25.29it/s]\n",
      "***** Running training *****\n",
      "  Num examples = 256\n",
      "  Num Epochs = 3\n",
      "  Instantaneous batch size per device = 8\n",
      "  Total train batch size (w. parallel, distributed & accumulation) = 8\n",
      "  Gradient Accumulation steps = 1\n",
      "  Total optimization steps = 96\n"
     ]
    },
    {
     "name": "stdout",
     "output_type": "stream",
     "text": [
      "[0.4908256880733945, 0.46788990825688076, 0.5103211009174312, 0.805045871559633]\n"
     ]
    },
    {
     "name": "stderr",
     "output_type": "stream",
     "text": [
      "100%|██████████| 96/96 [00:16<00:00,  6.18it/s]\n",
      "\n",
      "Training completed. Do not forget to share your model on huggingface.co/models =)\n",
      "\n",
      "\n",
      "100%|██████████| 96/96 [00:16<00:00,  5.70it/s]\n",
      "***** Running Prediction *****\n",
      "  Num examples = 872\n",
      "  Batch size = 8\n"
     ]
    },
    {
     "name": "stdout",
     "output_type": "stream",
     "text": [
      "{'train_runtime': 16.8777, 'train_samples_per_second': 45.504, 'train_steps_per_second': 5.688, 'train_loss': 0.3589279254277547, 'epoch': 3.0}\n"
     ]
    },
    {
     "name": "stderr",
     "output_type": "stream",
     "text": [
      " 99%|█████████▉| 108/109 [00:04<00:00, 26.12it/s]PyTorch: setting up devices\n",
      "The default value for the training argument `--report_to` will change in v5 (from all installed integrations to none). In v5, you will need to use `--report_to all` to get the same behavior as now. You should start updating your code and make this info disappear :-).\n",
      "100%|██████████| 109/109 [00:04<00:00, 26.12it/s]\n",
      "***** Running training *****\n",
      "  Num examples = 512\n",
      "  Num Epochs = 3\n",
      "  Instantaneous batch size per device = 8\n",
      "  Total train batch size (w. parallel, distributed & accumulation) = 8\n",
      "  Gradient Accumulation steps = 1\n",
      "  Total optimization steps = 192\n"
     ]
    },
    {
     "name": "stdout",
     "output_type": "stream",
     "text": [
      "[0.4908256880733945, 0.46788990825688076, 0.5103211009174312, 0.805045871559633, 0.8681192660550459]\n"
     ]
    },
    {
     "name": "stderr",
     "output_type": "stream",
     "text": [
      "100%|██████████| 192/192 [00:34<00:00,  5.80it/s]\n",
      "\n",
      "Training completed. Do not forget to share your model on huggingface.co/models =)\n",
      "\n",
      "\n",
      "100%|██████████| 192/192 [00:34<00:00,  5.63it/s]\n",
      "***** Running Prediction *****\n",
      "  Num examples = 872\n",
      "  Batch size = 8\n"
     ]
    },
    {
     "name": "stdout",
     "output_type": "stream",
     "text": [
      "{'train_runtime': 34.1428, 'train_samples_per_second': 44.988, 'train_steps_per_second': 5.623, 'train_loss': 0.2959648172060649, 'epoch': 3.0}\n"
     ]
    },
    {
     "name": "stderr",
     "output_type": "stream",
     "text": [
      " 99%|█████████▉| 108/109 [00:04<00:00, 23.07it/s]"
     ]
    },
    {
     "name": "stdout",
     "output_type": "stream",
     "text": [
      "[0.4908256880733945, 0.46788990825688076, 0.5103211009174312, 0.805045871559633, 0.8681192660550459, 0.8532110091743119]\n"
     ]
    }
   ],
   "source": [
    "## Now generate a learning curve. loop over different values of k (total samples)\n",
    "# and calculate accuracy for each\n",
    "\n",
    "for k in sample_sizes:\n",
    "    train_sample = concatenate_datasets([tokenized_datasets['pos_train'].select(range(k)),\n",
    "                                         tokenized_datasets['neg_train'].select(range(k))])\n",
    "    training_args = TrainingArguments('trainer')\n",
    "    model = copy.deepcopy(finetune_model)\n",
    "    if use_cuda:\n",
    "        model = model.cuda()\n",
    "\n",
    "        trainer = Trainer(\n",
    "            model,\n",
    "            training_args,\n",
    "            train_dataset = train_sample,\n",
    "            # data_collator = data_collator,\n",
    "            tokenizer = tokenizer\n",
    "        )\n",
    "\n",
    "    trainer.train()\n",
    "    preds = trainer.predict(tokenized_datasets['validation'])\n",
    "    acc = compute_acc(preds)\n",
    "    finetune_scores.append(acc)\n",
    "    print(finetune_scores)\n",
    "    torch.cuda.empty_cache()                                                                                 "
   ]
  },
  {
   "cell_type": "code",
   "execution_count": 9,
   "metadata": {},
   "outputs": [
    {
     "data": {
      "image/png": "[encoded data removed]",
      "text/plain": [
       "<Figure size 800x500 with 1 Axes>"
      ]
     },
     "metadata": {},
     "output_type": "display_data"
    }
   ],
   "source": [
    "## Plot the learning curve\n",
    "plt.figure(figsize=(8, 5))  # Set figure size\n",
    "\n",
    "plt.plot(sample_sizes, finetune_scores[1:], marker='o', linestyle='-', color='b', label='Fine-tune Accuracy')\n",
    "\n",
    "# Formatting\n",
    "plt.xlabel(\"Number of Training Samples (k)\")\n",
    "plt.ylabel(\"Validation Accuracy\")\n",
    "plt.title(\"Learning Curve: Fine-Tuning BERT\")\n",
    "plt.legend()\n",
    "plt.grid(True)  # Add grid for better readability\n",
    "\n",
    "# Show the plot\n",
    "plt.show()"
   ]
  },
  {
   "cell_type": "markdown",
   "metadata": {},
   "source": [
    "## Prompt Based fine tuning"
   ]
  },
  {
   "cell_type": "code",
   "execution_count": 10,
   "metadata": {},
   "outputs": [
    {
     "name": "stdout",
     "output_type": "stream",
     "text": [
      "{\n",
      "  \"guid\": 24073,\n",
      "  \"label\": 1,\n",
      "  \"meta\": {},\n",
      "  \"text_a\": \"a wonderful , ghastly film \",\n",
      "  \"text_b\": \"\",\n",
      "  \"tgt_text\": null\n",
      "}\n",
      "\n",
      "{\n",
      "  \"guid\": 39409,\n",
      "  \"label\": 0,\n",
      "  \"meta\": {},\n",
      "  \"text_a\": \"empty stud knockabout \",\n",
      "  \"text_b\": \"\",\n",
      "  \"tgt_text\": null\n",
      "}\n",
      "\n"
     ]
    }
   ],
   "source": [
    "## Create a dataset of openprompt Inputexamples from the training data\n",
    "prompt_dataset = {}\n",
    "for split in ['pos_train', 'neg_train', 'validation', 'test']:\n",
    "    prompt_dataset[split] = []\n",
    "    for data in dataset[split]:\n",
    "        input_example = InputExample(text_a = data['sentence'], label = int(data['label']), guid = data['idx'])\n",
    "        prompt_dataset[split].append(input_example)\n",
    "\n",
    "print(prompt_dataset['pos_train'][0])\n",
    "print(prompt_dataset['neg_train'][0])        "
   ]
  },
  {
   "cell_type": "code",
   "execution_count": 11,
   "metadata": {},
   "outputs": [
    {
     "name": "stderr",
     "output_type": "stream",
     "text": [
      "loading configuration file https://huggingface.co/bert-base-cased/resolve/main/config.json from cache at C:\\Users\\vjay1/.cache\\huggingface\\transformers\\a803e0468a8fe090683bdc453f4fac622804f49de86d7cecaee92365d4a0f829.a64a22196690e0e82ead56f388a3ef3a50de93335926ccfa20610217db589307\n",
      "Model config BertConfig {\n",
      "  \"architectures\": [\n",
      "    \"BertForMaskedLM\"\n",
      "  ],\n",
      "  \"attention_probs_dropout_prob\": 0.1,\n",
      "  \"classifier_dropout\": null,\n",
      "  \"gradient_checkpointing\": false,\n",
      "  \"hidden_act\": \"gelu\",\n",
      "  \"hidden_dropout_prob\": 0.1,\n",
      "  \"hidden_size\": 768,\n",
      "  \"initializer_range\": 0.02,\n",
      "  \"intermediate_size\": 3072,\n",
      "  \"layer_norm_eps\": 1e-12,\n",
      "  \"max_position_embeddings\": 512,\n",
      "  \"model_type\": \"bert\",\n",
      "  \"num_attention_heads\": 12,\n",
      "  \"num_hidden_layers\": 12,\n",
      "  \"pad_token_id\": 0,\n",
      "  \"position_embedding_type\": \"absolute\",\n",
      "  \"transformers_version\": \"4.19.0\",\n",
      "  \"type_vocab_size\": 2,\n",
      "  \"use_cache\": true,\n",
      "  \"vocab_size\": 28996\n",
      "}\n",
      "\n",
      "loading weights file https://huggingface.co/bert-base-cased/resolve/main/pytorch_model.bin from cache at C:\\Users\\vjay1/.cache\\huggingface\\transformers\\092cc582560fc3833e556b3f833695c26343cb54b7e88cd02d40821462a74999.1f48cab6c959fc6c360d22bea39d06959e90f5b002e77e836d2da45464875cda\n",
      "Some weights of the model checkpoint at bert-base-cased were not used when initializing BertForMaskedLM: ['cls.seq_relationship.bias', 'cls.seq_relationship.weight']\n",
      "- This IS expected if you are initializing BertForMaskedLM from the checkpoint of a model trained on another task or with another architecture (e.g. initializing a BertForSequenceClassification model from a BertForPreTraining model).\n",
      "- This IS NOT expected if you are initializing BertForMaskedLM from the checkpoint of a model that you expect to be exactly identical (initializing a BertForSequenceClassification model from a BertForSequenceClassification model).\n",
      "All the weights of BertForMaskedLM were initialized from the model checkpoint at bert-base-cased.\n",
      "If your task is similar to the task the model of the checkpoint was trained on, you can already use BertForMaskedLM for predictions without further training.\n",
      "loading file https://huggingface.co/bert-base-cased/resolve/main/vocab.txt from cache at C:\\Users\\vjay1/.cache\\huggingface\\transformers\\6508e60ab3c1200bffa26c95f4b58ac6b6d95fba4db1f195f632fa3cd7bc64cc.437aa611e89f6fc6675a049d2b5545390adbc617e7d655286421c191d2be2791\n",
      "loading file https://huggingface.co/bert-base-cased/resolve/main/added_tokens.json from cache at None\n",
      "loading file https://huggingface.co/bert-base-cased/resolve/main/special_tokens_map.json from cache at None\n",
      "loading file https://huggingface.co/bert-base-cased/resolve/main/tokenizer_config.json from cache at C:\\Users\\vjay1/.cache\\huggingface\\transformers\\ec84e86ee39bfe112543192cf981deebf7e6cbe8c91b8f7f8f63c9be44366158.25d8d06fb0679146a3ed2a3463e3585380bff882fe6e1ebc497196e40dbbd7fa\n",
      "loading configuration file https://huggingface.co/bert-base-cased/resolve/main/config.json from cache at C:\\Users\\vjay1/.cache\\huggingface\\transformers\\a803e0468a8fe090683bdc453f4fac622804f49de86d7cecaee92365d4a0f829.a64a22196690e0e82ead56f388a3ef3a50de93335926ccfa20610217db589307\n",
      "Model config BertConfig {\n",
      "  \"_name_or_path\": \"bert-base-cased\",\n",
      "  \"architectures\": [\n",
      "    \"BertForMaskedLM\"\n",
      "  ],\n",
      "  \"attention_probs_dropout_prob\": 0.1,\n",
      "  \"classifier_dropout\": null,\n",
      "  \"gradient_checkpointing\": false,\n",
      "  \"hidden_act\": \"gelu\",\n",
      "  \"hidden_dropout_prob\": 0.1,\n",
      "  \"hidden_size\": 768,\n",
      "  \"initializer_range\": 0.02,\n",
      "  \"intermediate_size\": 3072,\n",
      "  \"layer_norm_eps\": 1e-12,\n",
      "  \"max_position_embeddings\": 512,\n",
      "  \"model_type\": \"bert\",\n",
      "  \"num_attention_heads\": 12,\n",
      "  \"num_hidden_layers\": 12,\n",
      "  \"pad_token_id\": 0,\n",
      "  \"position_embedding_type\": \"absolute\",\n",
      "  \"transformers_version\": \"4.19.0\",\n",
      "  \"type_vocab_size\": 2,\n",
      "  \"use_cache\": true,\n",
      "  \"vocab_size\": 28996\n",
      "}\n",
      "\n",
      "tokenizing: 872it [00:00, 1188.10it/s]\n"
     ]
    }
   ],
   "source": [
    "## Load the BERT model\n",
    "plm, tokenizer, model_config, WrapperClass = load_plm(\"bert\", \"bert-base-cased\")\n",
    "\n",
    "## Create the prompt template\n",
    "template_text = '{\"placeholder\": \"text_a\"} it is {\"mask\"} .'\n",
    "template = ManualTemplate(tokenizer=tokenizer, text=template_text)\n",
    "\n",
    "## Create a wrapped tokenizer\n",
    "wrapped_tokenizer = WrapperClass(max_seq_length=128, decoder_max_length=3, tokenizer=tokenizer, truncate_method=\"head\")\n",
    "\n",
    "## Define your verbalizer with desired vocabulatary mapping to pos and neg\n",
    "verbalizer = ManualVerbalizer(tokenizer, num_classes=2,\n",
    "                              label_words=[['terrible'], ['great']])\n",
    "\n",
    "## Generate a testing dataloader\n",
    "val_dataloader = PromptDataLoader(prompt_dataset['validation'], template, tokenizer=tokenizer,\n",
    "                                  tokenizer_wrapper_class=WrapperClass, batch_size=4)"
   ]
  },
  {
   "cell_type": "code",
   "execution_count": 12,
   "metadata": {},
   "outputs": [],
   "source": [
    "## Define the accuracy metric\n",
    "\n",
    "def evaluate(model, val_dataloader):\n",
    "    model.eval()\n",
    "    allpreds = []\n",
    "    alllabels = []\n",
    "    with torch.no_grad():\n",
    "        for step, inputs in enumerate(val_dataloader):\n",
    "            if use_cuda:\n",
    "                inputs = inputs.cuda()\n",
    "            logits = model(inputs)\n",
    "            labels = inputs['label']\n",
    "            alllabels.extend(labels.cpu().tolist())\n",
    "            allpreds.extend(torch.argmax(logits, dim=-1).cpu().tolist())\n",
    "    acc = sum([int(i==j) for i,j in zip(allpreds, alllabels)])/len(allpreds)\n",
    "    return acc"
   ]
  },
  {
   "cell_type": "code",
   "execution_count": 13,
   "metadata": {},
   "outputs": [
    {
     "data": {
      "text/plain": [
       "[0.680045871559633]"
      ]
     },
     "execution_count": 13,
     "metadata": {},
     "output_type": "execute_result"
    }
   ],
   "source": [
    "## ** Zero-shot testing **\n",
    "## Run the evaluation set against the prompt model before any finetuning\n",
    "## This is equivalent to normal prompt-based inference, relying just on\n",
    "## the weights tuned into the model and not on any modifications\n",
    "\n",
    "prompt_model = PromptForClassification(plm = copy.deepcopy(plm), template=template, verbalizer= verbalizer)\n",
    "prompt_model = prompt_model.cuda()\n",
    "prompt_scores = [evaluate(prompt_model, val_dataloader)]\n",
    "prompt_scores"
   ]
  },
  {
   "cell_type": "code",
   "execution_count": 14,
   "metadata": {},
   "outputs": [
    {
     "name": "stderr",
     "output_type": "stream",
     "text": [
      "tokenizing: 32it [00:00, 992.87it/s]\n",
      "C:\\Users\\vjay1\\AppData\\Local\\Packages\\PythonSoftwareFoundation.Python.3.10_qbz5n2kfra8p0\\LocalCache\\local-packages\\Python310\\site-packages\\transformers\\optimization.py:306: FutureWarning: This implementation of AdamW is deprecated and will be removed in a future version. Use the PyTorch implementation torch.optim.AdamW instead, or set `no_deprecation_warning=True` to disable this warning\n",
      "  warnings.warn(\n"
     ]
    },
    {
     "name": "stdout",
     "output_type": "stream",
     "text": [
      "[0.680045871559633, 0.805045871559633]\n"
     ]
    },
    {
     "name": "stderr",
     "output_type": "stream",
     "text": [
      "tokenizing: 64it [00:00, 1477.97it/s]\n",
      "C:\\Users\\vjay1\\AppData\\Local\\Packages\\PythonSoftwareFoundation.Python.3.10_qbz5n2kfra8p0\\LocalCache\\local-packages\\Python310\\site-packages\\transformers\\optimization.py:306: FutureWarning: This implementation of AdamW is deprecated and will be removed in a future version. Use the PyTorch implementation torch.optim.AdamW instead, or set `no_deprecation_warning=True` to disable this warning\n",
      "  warnings.warn(\n"
     ]
    },
    {
     "name": "stdout",
     "output_type": "stream",
     "text": [
      "[0.680045871559633, 0.805045871559633, 0.819954128440367]\n"
     ]
    },
    {
     "name": "stderr",
     "output_type": "stream",
     "text": [
      "tokenizing: 128it [00:00, 1045.08it/s]\n",
      "C:\\Users\\vjay1\\AppData\\Local\\Packages\\PythonSoftwareFoundation.Python.3.10_qbz5n2kfra8p0\\LocalCache\\local-packages\\Python310\\site-packages\\transformers\\optimization.py:306: FutureWarning: This implementation of AdamW is deprecated and will be removed in a future version. Use the PyTorch implementation torch.optim.AdamW instead, or set `no_deprecation_warning=True` to disable this warning\n",
      "  warnings.warn(\n"
     ]
    },
    {
     "name": "stdout",
     "output_type": "stream",
     "text": [
      "[0.680045871559633, 0.805045871559633, 0.819954128440367, 0.8463302752293578]\n"
     ]
    },
    {
     "name": "stderr",
     "output_type": "stream",
     "text": [
      "tokenizing: 256it [00:00, 1230.13it/s]\n",
      "C:\\Users\\vjay1\\AppData\\Local\\Packages\\PythonSoftwareFoundation.Python.3.10_qbz5n2kfra8p0\\LocalCache\\local-packages\\Python310\\site-packages\\transformers\\optimization.py:306: FutureWarning: This implementation of AdamW is deprecated and will be removed in a future version. Use the PyTorch implementation torch.optim.AdamW instead, or set `no_deprecation_warning=True` to disable this warning\n",
      "  warnings.warn(\n"
     ]
    },
    {
     "name": "stdout",
     "output_type": "stream",
     "text": [
      "[0.680045871559633, 0.805045871559633, 0.819954128440367, 0.8463302752293578, 0.8474770642201835]\n"
     ]
    },
    {
     "name": "stderr",
     "output_type": "stream",
     "text": [
      "tokenizing: 512it [00:00, 1271.10it/s]\n",
      "C:\\Users\\vjay1\\AppData\\Local\\Packages\\PythonSoftwareFoundation.Python.3.10_qbz5n2kfra8p0\\LocalCache\\local-packages\\Python310\\site-packages\\transformers\\optimization.py:306: FutureWarning: This implementation of AdamW is deprecated and will be removed in a future version. Use the PyTorch implementation torch.optim.AdamW instead, or set `no_deprecation_warning=True` to disable this warning\n",
      "  warnings.warn(\n"
     ]
    },
    {
     "name": "stdout",
     "output_type": "stream",
     "text": [
      "[0.680045871559633, 0.805045871559633, 0.819954128440367, 0.8463302752293578, 0.8474770642201835, 0.8612385321100917]\n"
     ]
    }
   ],
   "source": [
    "## Now generate a learning curve. loop over different values of k (total samples)\n",
    "## and calculate accuracy for each\n",
    "\n",
    "for k in sample_sizes:\n",
    "    train_sample = prompt_dataset['pos_train'][:k] + prompt_dataset['neg_train'][:k]\n",
    "    train_dataloader = PromptDataLoader(train_sample, template, tokenizer=tokenizer,\n",
    "                                    tokenizer_wrapper_class=WrapperClass, shuffle=True,\n",
    "                                    batch_size=4, seed=seed)\n",
    "\n",
    "    prompt_model = PromptForClassification(plm=copy.deepcopy(plm), template=template,\n",
    "                                         verbalizer=verbalizer, freeze_plm=False)\n",
    "    prompt_model = prompt_model.cuda()\n",
    "\n",
    "    loss_func = torch.nn.CrossEntropyLoss()\n",
    "    no_decay = ['bias', 'LayerNorm.weight']\n",
    "    optimizer_grouped_parameters = [\n",
    "      {'params': [p for n, p in prompt_model.named_parameters() if not any(nd in n for nd in no_decay)], 'weight_decay': 0.01},\n",
    "      {'params': [p for n, p in prompt_model.named_parameters() if any(nd in n for nd in no_decay)], 'weight_decay': 0.0}\n",
    "    ]\n",
    "\n",
    "    optimizer = AdamW(optimizer_grouped_parameters, lr=2e-5)\n",
    "\n",
    "    for epoch in range(5):\n",
    "        tot_loss = 0\n",
    "        for step, inputs in enumerate(train_dataloader):\n",
    "            if use_cuda:\n",
    "                inputs = inputs.cuda()\n",
    "            logits = prompt_model(inputs)\n",
    "            labels = inputs['label']\n",
    "            loss = loss_func(logits, labels)\n",
    "            loss.backward()\n",
    "            tot_loss += loss.item()\n",
    "            optimizer.step()\n",
    "            optimizer.zero_grad()\n",
    "\n",
    "    accuracy = evaluate(prompt_model, val_dataloader)\n",
    "    prompt_scores.append(accuracy)\n",
    "    print(prompt_scores)\n",
    "    torch.cuda.empty_cache()"
   ]
  },
  {
   "cell_type": "markdown",
   "metadata": {},
   "source": [
    "## Plot the results ##"
   ]
  },
  {
   "cell_type": "code",
   "execution_count": 19,
   "metadata": {},
   "outputs": [
    {
     "data": {
      "text/plain": [
       "<matplotlib.legend.Legend at 0x2f09d1466b0>"
      ]
     },
     "execution_count": 19,
     "metadata": {},
     "output_type": "execute_result"
    },
    {
     "data": {
      "image/png": "[encoded data removed]",
      "text/plain": [
       "<Figure size 640x480 with 1 Axes>"
      ]
     },
     "metadata": {},
     "output_type": "display_data"
    }
   ],
   "source": [
    "# plot the prompt-based training and pre-train/finetuning learning curves\n",
    "# against each other\n",
    "\n",
    "fig1 = plt.figure()\n",
    "ax11 = fig1.add_subplot(111)\n",
    "\n",
    "x = [0] + sample_sizes\n",
    "ax11.plot(range(len(x)), finetune_scores, color='#cc0000', lw=2, ls='--', label='Head-based tuning')\n",
    "ax11.scatter(range(len(x)), finetune_scores, color='#cc0000')\n",
    "ax11.plot(range(len(x)), prompt_scores, color='#6d9eeb', lw=2, label='Prompt-based tuning')\n",
    "ax11.scatter(range(len(x)), prompt_scores, color='#6d9eeb')\n",
    "ax11.set_xticks(range(len(x)))\n",
    "ax11.set_xticklabels(x,fontsize=16)\n",
    "ax11.set_xlabel('# training examples (per class)',fontsize=20)\n",
    "\n",
    "ax11.set_yticks([0.5, 0.6, 0.7, 0.8, 0.9])\n",
    "ax11.set_yticklabels(['0.5', '0.6', '0.7', '0.8', '0.9'],fontsize=16)\n",
    "ax11.set_ylabel('Test Set Accuracy',fontsize=20)\n",
    "\n",
    "ax11.xaxis.set_ticks_position('both')\n",
    "ax11.tick_params(axis='x', which='major', direction='in')\n",
    "ax11.tick_params(axis='x', which='minor', direction='in')\n",
    "ax11.yaxis.set_ticks_position('both')\n",
    "ax11.tick_params(axis='y', which='major', direction='in')\n",
    "ax11.tick_params(axis='y', which='minor', direction='in')\n",
    "\n",
    "plt.gca().yaxis.set_minor_locator(MultipleLocator(0.02))\n",
    "\n",
    "ax11.legend(fontsize=15, loc = 'upper left', bbox_to_anchor=(1,0.6))"
   ]
  }
 ],
 "metadata": {
  "kernelspec": {
   "display_name": "Python 3",
   "language": "python",
   "name": "python3"
  },
  "language_info": {
   "codemirror_mode": {
    "name": "ipython",
    "version": 3
   },
   "file_extension": ".py",
   "mimetype": "text/x-python",
   "name": "python",
   "nbconvert_exporter": "python",
   "pygments_lexer": "ipython3",
   "version": "3.10.11"
  }
 },
 "nbformat": 4,
 "nbformat_minor": 2
}
